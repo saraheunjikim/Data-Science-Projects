{
 "cells": [
  {
   "cell_type": "code",
   "execution_count": 1,
   "metadata": {},
   "outputs": [],
   "source": [
    "import numpy as np\n",
    "import pandas as pd\n",
    "from pandas import Series, DataFrame\n",
    "import seaborn as sns\n",
    "import matplotlib.pyplot as plt"
   ]
  },
  {
   "cell_type": "code",
   "execution_count": 5,
   "metadata": {},
   "outputs": [],
   "source": [
    "df = pd.read_csv('2004-2019.tsv')"
   ]
  },
  {
   "cell_type": "code",
   "execution_count": 6,
   "metadata": {},
   "outputs": [
    {
     "data": {
      "text/html": [
       "<div>\n",
       "<style scoped>\n",
       "    .dataframe tbody tr th:only-of-type {\n",
       "        vertical-align: middle;\n",
       "    }\n",
       "\n",
       "    .dataframe tbody tr th {\n",
       "        vertical-align: top;\n",
       "    }\n",
       "\n",
       "    .dataframe thead th {\n",
       "        text-align: right;\n",
       "    }\n",
       "</style>\n",
       "<table border=\"1\" class=\"dataframe\">\n",
       "  <thead>\n",
       "    <tr style=\"text-align: right;\">\n",
       "      <th></th>\n",
       "      <th>DATA INICIAL\tDATA FINAL\tREGIÃO\tESTADO\tPRODUTO\tNÚMERO DE POSTOS PESQUISADOS\tUNIDADE DE MEDIDA\tPREÇO MÉDIO REVENDA\tDESVIO PADRÃO REVENDA\tPREÇO MÍNIMO REVENDA\tPREÇO MÁXIMO REVENDA\tMARGEM MÉDIA REVENDA\tCOEF DE VARIAÇÃO REVENDA\tPREÇO MÉDIO DISTRIBUIÇÃO\tDESVIO PADRÃO DISTRIBUIÇÃO\tPREÇO MÍNIMO DISTRIBUIÇÃO\tPREÇO MÁXIMO DISTRIBUIÇÃO\tCOEF DE VARIAÇÃO DISTRIBUIÇÃO\tMÊS\tANO</th>\n",
       "    </tr>\n",
       "  </thead>\n",
       "  <tbody>\n",
       "    <tr>\n",
       "      <th>0</th>\n",
       "      <td>0\\t2004-05-09\\t2004-05-15\\tCENTRO OESTE\\tDISTR...</td>\n",
       "    </tr>\n",
       "    <tr>\n",
       "      <th>1</th>\n",
       "      <td>1\\t2004-05-09\\t2004-05-15\\tCENTRO OESTE\\tGOIAS...</td>\n",
       "    </tr>\n",
       "    <tr>\n",
       "      <th>2</th>\n",
       "      <td>2\\t2004-05-09\\t2004-05-15\\tCENTRO OESTE\\tMATO ...</td>\n",
       "    </tr>\n",
       "    <tr>\n",
       "      <th>3</th>\n",
       "      <td>3\\t2004-05-09\\t2004-05-15\\tCENTRO OESTE\\tMATO ...</td>\n",
       "    </tr>\n",
       "    <tr>\n",
       "      <th>4</th>\n",
       "      <td>4\\t2004-05-09\\t2004-05-15\\tNORDESTE\\tALAGOAS\\t...</td>\n",
       "    </tr>\n",
       "  </tbody>\n",
       "</table>\n",
       "</div>"
      ],
      "text/plain": [
       "  \\tDATA INICIAL\\tDATA FINAL\\tREGIÃO\\tESTADO\\tPRODUTO\\tNÚMERO DE POSTOS PESQUISADOS\\tUNIDADE DE MEDIDA\\tPREÇO MÉDIO REVENDA\\tDESVIO PADRÃO REVENDA\\tPREÇO MÍNIMO REVENDA\\tPREÇO MÁXIMO REVENDA\\tMARGEM MÉDIA REVENDA\\tCOEF DE VARIAÇÃO REVENDA\\tPREÇO MÉDIO DISTRIBUIÇÃO\\tDESVIO PADRÃO DISTRIBUIÇÃO\\tPREÇO MÍNIMO DISTRIBUIÇÃO\\tPREÇO MÁXIMO DISTRIBUIÇÃO\\tCOEF DE VARIAÇÃO DISTRIBUIÇÃO\\tMÊS\\tANO\n",
       "0  0\\t2004-05-09\\t2004-05-15\\tCENTRO OESTE\\tDISTR...                                                                                                                                                                                                                                                                                                                                               \n",
       "1  1\\t2004-05-09\\t2004-05-15\\tCENTRO OESTE\\tGOIAS...                                                                                                                                                                                                                                                                                                                                               \n",
       "2  2\\t2004-05-09\\t2004-05-15\\tCENTRO OESTE\\tMATO ...                                                                                                                                                                                                                                                                                                                                               \n",
       "3  3\\t2004-05-09\\t2004-05-15\\tCENTRO OESTE\\tMATO ...                                                                                                                                                                                                                                                                                                                                               \n",
       "4  4\\t2004-05-09\\t2004-05-15\\tNORDESTE\\tALAGOAS\\t...                                                                                                                                                                                                                                                                                                                                               "
      ]
     },
     "execution_count": 6,
     "metadata": {},
     "output_type": "execute_result"
    }
   ],
   "source": [
    "df.head()"
   ]
  },
  {
   "cell_type": "code",
   "execution_count": 7,
   "metadata": {},
   "outputs": [
    {
     "data": {
      "text/plain": [
       "(106823, 1)"
      ]
     },
     "execution_count": 7,
     "metadata": {},
     "output_type": "execute_result"
    }
   ],
   "source": [
    "df.shape"
   ]
  },
  {
   "cell_type": "code",
   "execution_count": null,
   "metadata": {},
   "outputs": [],
   "source": []
  }
 ],
 "metadata": {
  "kernelspec": {
   "display_name": "Python 3",
   "language": "python",
   "name": "python3"
  },
  "language_info": {
   "codemirror_mode": {
    "name": "ipython",
    "version": 3
   },
   "file_extension": ".py",
   "mimetype": "text/x-python",
   "name": "python",
   "nbconvert_exporter": "python",
   "pygments_lexer": "ipython3",
   "version": "3.7.3"
  }
 },
 "nbformat": 4,
 "nbformat_minor": 2
}
