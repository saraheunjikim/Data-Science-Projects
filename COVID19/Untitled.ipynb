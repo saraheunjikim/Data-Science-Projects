{
 "cells": [
  {
   "cell_type": "code",
   "execution_count": 1,
   "metadata": {},
   "outputs": [
    {
     "name": "stdout",
     "output_type": "stream",
     "text": [
      "                 Date       Val\n",
      "0 2015-02-24 00:00:00  1.764052\n",
      "1 2015-02-24 00:01:00  0.400157\n",
      "2 2015-02-24 00:02:00  0.978738\n",
      "3 2015-02-24 00:03:00  2.240893\n",
      "4 2015-02-24 00:04:00  1.867558\n"
     ]
    }
   ],
   "source": [
    "import pandas as pd\n",
    "import numpy as np\n",
    "\n",
    "np.random.seed(0)\n",
    "# create an array of 5 dates starting at '2015-02-24', one per minute\n",
    "rng = pd.date_range('2015-02-24', periods=5, freq='T')\n",
    "df = pd.DataFrame({ 'Date': rng, 'Val': np.random.randn(len(rng)) }) \n",
    "\n",
    "print (df)\n",
    "# Output:\n",
    "#                  Date       Val\n",
    "# 0 2015-02-24 00:00:00  1.764052\n",
    "# 1 2015-02-24 00:01:00  0.400157\n",
    "# 2 2015-02-24 00:02:00  0.978738\n",
    "# 3 2015-02-24 00:03:00  2.240893\n",
    "# 4 2015-02-24 00:04:00  1.867558\n",
    "\n",
    "# create an array of 5 dates starting at '2015-02-24', one per day\n",
    "rng = pd.date_range('2015-02-24', periods=5, freq='D')\n",
    "df = pd.DataFrame({ 'Date': rng, 'Val' : np.random.randn(len(rng))}) "
   ]
  },
  {
   "cell_type": "code",
   "execution_count": null,
   "metadata": {},
   "outputs": [],
   "source": []
  }
 ],
 "metadata": {
  "kernelspec": {
   "display_name": "Python 3",
   "language": "python",
   "name": "python3"
  },
  "language_info": {
   "codemirror_mode": {
    "name": "ipython",
    "version": 3
   },
   "file_extension": ".py",
   "mimetype": "text/x-python",
   "name": "python",
   "nbconvert_exporter": "python",
   "pygments_lexer": "ipython3",
   "version": "3.7.3"
  }
 },
 "nbformat": 4,
 "nbformat_minor": 2
}
