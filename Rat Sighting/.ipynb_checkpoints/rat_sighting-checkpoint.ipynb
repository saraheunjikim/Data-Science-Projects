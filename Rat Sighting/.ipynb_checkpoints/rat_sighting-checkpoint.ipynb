{
 "cells": [
  {
   "cell_type": "code",
   "execution_count": 1,
   "metadata": {},
   "outputs": [],
   "source": [
    "import pandas as pd\n",
    "import numpy as np\n",
    "import seaborn as sns\n",
    "import matplotlib.pyplot as plt\n",
    "%matplotlib inline"
   ]
  },
  {
   "cell_type": "code",
   "execution_count": 2,
   "metadata": {},
   "outputs": [],
   "source": [
    "pd.set_option('display.max_rows', 500)\n",
    "pd.set_option('display.max_columns', 500)\n",
    "pd.set_option('display.width', 1000)"
   ]
  },
  {
   "cell_type": "code",
   "execution_count": 3,
   "metadata": {},
   "outputs": [],
   "source": [
    "df = pd.read_csv('rat.csv')"
   ]
  },
  {
   "cell_type": "code",
   "execution_count": 4,
   "metadata": {},
   "outputs": [],
   "source": [
    "def assess_NA(dataframe):\n",
    "    null_sum = dataframe.isnull().sum()\n",
    "    total = null_sum.sort_values(ascending=False)\n",
    "    percent = ( ((null_sum / len(dataframe.index))*100).round(2)).sort_values(ascending=False)\n",
    "    df_NA = pd.concat([total, percent], axis=1, keys=['Number of NA', 'Percent NA'])\n",
    "    df_NA = df_NA[ (df_NA.T != 0).any() ]\n",
    "\n",
    "    return df_NA"
   ]
  },
  {
   "cell_type": "code",
   "execution_count": 5,
   "metadata": {},
   "outputs": [
    {
     "name": "stderr",
     "output_type": "stream",
     "text": [
      "C:\\Users\\Muffin\\Anaconda3\\lib\\site-packages\\ipykernel_launcher.py:5: FutureWarning: Sorting because non-concatenation axis is not aligned. A future version\n",
      "of pandas will change to not sort by default.\n",
      "\n",
      "To accept the future behavior, pass 'sort=False'.\n",
      "\n",
      "To retain the current behavior and silence the warning, pass 'sort=True'.\n",
      "\n",
      "  \"\"\"\n"
     ]
    },
    {
     "data": {
      "text/html": [
       "<div>\n",
       "<style scoped>\n",
       "    .dataframe tbody tr th:only-of-type {\n",
       "        vertical-align: middle;\n",
       "    }\n",
       "\n",
       "    .dataframe tbody tr th {\n",
       "        vertical-align: top;\n",
       "    }\n",
       "\n",
       "    .dataframe thead th {\n",
       "        text-align: right;\n",
       "    }\n",
       "</style>\n",
       "<table border=\"1\" class=\"dataframe\">\n",
       "  <thead>\n",
       "    <tr style=\"text-align: right;\">\n",
       "      <th></th>\n",
       "      <th>Number of NA</th>\n",
       "      <th>Percent NA</th>\n",
       "    </tr>\n",
       "  </thead>\n",
       "  <tbody>\n",
       "    <tr>\n",
       "      <th>Address Type</th>\n",
       "      <td>346</td>\n",
       "      <td>0.34</td>\n",
       "    </tr>\n",
       "    <tr>\n",
       "      <th>Bridge Highway Direction</th>\n",
       "      <td>101914</td>\n",
       "      <td>100.00</td>\n",
       "    </tr>\n",
       "    <tr>\n",
       "      <th>Bridge Highway Name</th>\n",
       "      <td>101914</td>\n",
       "      <td>100.00</td>\n",
       "    </tr>\n",
       "    <tr>\n",
       "      <th>Bridge Highway Segment</th>\n",
       "      <td>101914</td>\n",
       "      <td>100.00</td>\n",
       "    </tr>\n",
       "    <tr>\n",
       "      <th>City</th>\n",
       "      <td>342</td>\n",
       "      <td>0.34</td>\n",
       "    </tr>\n",
       "    <tr>\n",
       "      <th>Closed Date</th>\n",
       "      <td>10931</td>\n",
       "      <td>10.73</td>\n",
       "    </tr>\n",
       "    <tr>\n",
       "      <th>Cross Street 1</th>\n",
       "      <td>16657</td>\n",
       "      <td>16.34</td>\n",
       "    </tr>\n",
       "    <tr>\n",
       "      <th>Cross Street 2</th>\n",
       "      <td>16690</td>\n",
       "      <td>16.38</td>\n",
       "    </tr>\n",
       "    <tr>\n",
       "      <th>Due Date</th>\n",
       "      <td>117</td>\n",
       "      <td>0.11</td>\n",
       "    </tr>\n",
       "    <tr>\n",
       "      <th>Facility Type</th>\n",
       "      <td>101914</td>\n",
       "      <td>100.00</td>\n",
       "    </tr>\n",
       "    <tr>\n",
       "      <th>Ferry Direction</th>\n",
       "      <td>101914</td>\n",
       "      <td>100.00</td>\n",
       "    </tr>\n",
       "    <tr>\n",
       "      <th>Ferry Terminal Name</th>\n",
       "      <td>101914</td>\n",
       "      <td>100.00</td>\n",
       "    </tr>\n",
       "    <tr>\n",
       "      <th>Garage Lot Name</th>\n",
       "      <td>101914</td>\n",
       "      <td>100.00</td>\n",
       "    </tr>\n",
       "    <tr>\n",
       "      <th>Incident Address</th>\n",
       "      <td>9074</td>\n",
       "      <td>8.90</td>\n",
       "    </tr>\n",
       "    <tr>\n",
       "      <th>Incident Zip</th>\n",
       "      <td>336</td>\n",
       "      <td>0.33</td>\n",
       "    </tr>\n",
       "    <tr>\n",
       "      <th>Intersection Street 1</th>\n",
       "      <td>92989</td>\n",
       "      <td>91.24</td>\n",
       "    </tr>\n",
       "    <tr>\n",
       "      <th>Intersection Street 2</th>\n",
       "      <td>92989</td>\n",
       "      <td>91.24</td>\n",
       "    </tr>\n",
       "    <tr>\n",
       "      <th>Landmark</th>\n",
       "      <td>101879</td>\n",
       "      <td>99.97</td>\n",
       "    </tr>\n",
       "    <tr>\n",
       "      <th>Latitude</th>\n",
       "      <td>706</td>\n",
       "      <td>0.69</td>\n",
       "    </tr>\n",
       "    <tr>\n",
       "      <th>Location</th>\n",
       "      <td>706</td>\n",
       "      <td>0.69</td>\n",
       "    </tr>\n",
       "    <tr>\n",
       "      <th>Location Type</th>\n",
       "      <td>6</td>\n",
       "      <td>0.01</td>\n",
       "    </tr>\n",
       "    <tr>\n",
       "      <th>Longitude</th>\n",
       "      <td>706</td>\n",
       "      <td>0.69</td>\n",
       "    </tr>\n",
       "    <tr>\n",
       "      <th>Resolution Action Updated Date</th>\n",
       "      <td>3</td>\n",
       "      <td>0.00</td>\n",
       "    </tr>\n",
       "    <tr>\n",
       "      <th>Road Ramp</th>\n",
       "      <td>101914</td>\n",
       "      <td>100.00</td>\n",
       "    </tr>\n",
       "    <tr>\n",
       "      <th>School Not Found</th>\n",
       "      <td>917</td>\n",
       "      <td>0.90</td>\n",
       "    </tr>\n",
       "    <tr>\n",
       "      <th>School or Citywide Complaint</th>\n",
       "      <td>101914</td>\n",
       "      <td>100.00</td>\n",
       "    </tr>\n",
       "    <tr>\n",
       "      <th>Street Name</th>\n",
       "      <td>9075</td>\n",
       "      <td>8.90</td>\n",
       "    </tr>\n",
       "    <tr>\n",
       "      <th>Taxi Company Borough</th>\n",
       "      <td>101914</td>\n",
       "      <td>100.00</td>\n",
       "    </tr>\n",
       "    <tr>\n",
       "      <th>Taxi Pick Up Location</th>\n",
       "      <td>101914</td>\n",
       "      <td>100.00</td>\n",
       "    </tr>\n",
       "    <tr>\n",
       "      <th>Vehicle Type</th>\n",
       "      <td>101914</td>\n",
       "      <td>100.00</td>\n",
       "    </tr>\n",
       "    <tr>\n",
       "      <th>X Coordinate (State Plane)</th>\n",
       "      <td>706</td>\n",
       "      <td>0.69</td>\n",
       "    </tr>\n",
       "    <tr>\n",
       "      <th>Y Coordinate (State Plane)</th>\n",
       "      <td>706</td>\n",
       "      <td>0.69</td>\n",
       "    </tr>\n",
       "  </tbody>\n",
       "</table>\n",
       "</div>"
      ],
      "text/plain": [
       "                                Number of NA  Percent NA\n",
       "Address Type                             346        0.34\n",
       "Bridge Highway Direction              101914      100.00\n",
       "Bridge Highway Name                   101914      100.00\n",
       "Bridge Highway Segment                101914      100.00\n",
       "City                                     342        0.34\n",
       "Closed Date                            10931       10.73\n",
       "Cross Street 1                         16657       16.34\n",
       "Cross Street 2                         16690       16.38\n",
       "Due Date                                 117        0.11\n",
       "Facility Type                         101914      100.00\n",
       "Ferry Direction                       101914      100.00\n",
       "Ferry Terminal Name                   101914      100.00\n",
       "Garage Lot Name                       101914      100.00\n",
       "Incident Address                        9074        8.90\n",
       "Incident Zip                             336        0.33\n",
       "Intersection Street 1                  92989       91.24\n",
       "Intersection Street 2                  92989       91.24\n",
       "Landmark                              101879       99.97\n",
       "Latitude                                 706        0.69\n",
       "Location                                 706        0.69\n",
       "Location Type                              6        0.01\n",
       "Longitude                                706        0.69\n",
       "Resolution Action Updated Date             3        0.00\n",
       "Road Ramp                             101914      100.00\n",
       "School Not Found                         917        0.90\n",
       "School or Citywide Complaint          101914      100.00\n",
       "Street Name                             9075        8.90\n",
       "Taxi Company Borough                  101914      100.00\n",
       "Taxi Pick Up Location                 101914      100.00\n",
       "Vehicle Type                          101914      100.00\n",
       "X Coordinate (State Plane)               706        0.69\n",
       "Y Coordinate (State Plane)               706        0.69"
      ]
     },
     "execution_count": 5,
     "metadata": {},
     "output_type": "execute_result"
    }
   ],
   "source": [
    "assess_NA(df)"
   ]
  },
  {
   "cell_type": "code",
   "execution_count": 6,
   "metadata": {},
   "outputs": [],
   "source": [
    "# Delete the columns with NaN values\n",
    "deleted_columns = ['Closed Date', 'Agency', 'Agency Name', 'Complaint Type', \n",
    "                   'Descriptor', 'Incident Address', 'Street Name', 'Cross Street 1',\n",
    "                   'Cross Street 2', 'Intersection Street 1', 'Intersection Street 2',\n",
    "                   'Address Type', 'Landmark', 'Status', 'Due Date', 'Community Board',\n",
    "                   'Park Facility Name', 'Park Borough', 'School Name', 'School Number',\n",
    "                   'School Region', 'School Code', 'School Phone Number', 'School Address',\n",
    "                   'School City', 'School State', 'School Zip', 'School Not Found',\n",
    "                   'School or Citywide Complaint', 'Vehicle Type', 'Taxi Company Borough', \n",
    "                  'Taxi Pick Up Location', 'Bridge Highway Name', 'Bridge Highway Direction',\n",
    "                  'Road Ramp', 'Bridge Highway Segment', 'Garage Lot Name', 'Ferry Direction',\n",
    "                  'Ferry Terminal Name','Facility Type', 'City', 'Unique Key', \n",
    "                   'X Coordinate (State Plane)', 'Y Coordinate (State Plane)', 'Location']\n",
    "\n",
    "df = df.drop(deleted_columns, axis=1)"
   ]
  },
  {
   "cell_type": "code",
   "execution_count": 7,
   "metadata": {},
   "outputs": [],
   "source": [
    "df = df.rename(columns={'Created Date':'Date', 'Location Type':'Type', \n",
    "              'Incident Zip':'Zip', 'Resolution Action Updated Date':'Respons Date'})"
   ]
  },
  {
   "cell_type": "code",
   "execution_count": 8,
   "metadata": {},
   "outputs": [],
   "source": [
    "df['Zip'] = df['Zip'].fillna(0)"
   ]
  },
  {
   "cell_type": "code",
   "execution_count": 9,
   "metadata": {},
   "outputs": [],
   "source": [
    "df['Zip'] = df['Zip'].astype(int)"
   ]
  },
  {
   "cell_type": "code",
   "execution_count": 10,
   "metadata": {
    "scrolled": true
   },
   "outputs": [
    {
     "data": {
      "text/html": [
       "<div>\n",
       "<style scoped>\n",
       "    .dataframe tbody tr th:only-of-type {\n",
       "        vertical-align: middle;\n",
       "    }\n",
       "\n",
       "    .dataframe tbody tr th {\n",
       "        vertical-align: top;\n",
       "    }\n",
       "\n",
       "    .dataframe thead th {\n",
       "        text-align: right;\n",
       "    }\n",
       "</style>\n",
       "<table border=\"1\" class=\"dataframe\">\n",
       "  <thead>\n",
       "    <tr style=\"text-align: right;\">\n",
       "      <th></th>\n",
       "      <th>Date</th>\n",
       "      <th>Type</th>\n",
       "      <th>Zip</th>\n",
       "      <th>Respons Date</th>\n",
       "      <th>Borough</th>\n",
       "      <th>Latitude</th>\n",
       "      <th>Longitude</th>\n",
       "    </tr>\n",
       "  </thead>\n",
       "  <tbody>\n",
       "    <tr>\n",
       "      <th>69917</th>\n",
       "      <td>09/02/2014 12:00:00 AM</td>\n",
       "      <td>1-2 Family Dwelling</td>\n",
       "      <td>11367</td>\n",
       "      <td>09/10/2014 12:00:00 AM</td>\n",
       "      <td>QUEENS</td>\n",
       "      <td>40.740013</td>\n",
       "      <td>-73.830240</td>\n",
       "    </tr>\n",
       "    <tr>\n",
       "      <th>14682</th>\n",
       "      <td>07/26/2016 12:00:00 AM</td>\n",
       "      <td>3+ Family Apt. Building</td>\n",
       "      <td>10303</td>\n",
       "      <td>07/26/2016 08:55:33 PM</td>\n",
       "      <td>STATEN ISLAND</td>\n",
       "      <td>40.627381</td>\n",
       "      <td>-74.156613</td>\n",
       "    </tr>\n",
       "    <tr>\n",
       "      <th>97078</th>\n",
       "      <td>03/04/2017 12:00:00 AM</td>\n",
       "      <td>3+ Family Apt. Building</td>\n",
       "      <td>10031</td>\n",
       "      <td>03/21/2017 12:00:00 AM</td>\n",
       "      <td>MANHATTAN</td>\n",
       "      <td>40.825288</td>\n",
       "      <td>-73.942665</td>\n",
       "    </tr>\n",
       "  </tbody>\n",
       "</table>\n",
       "</div>"
      ],
      "text/plain": [
       "                         Date                     Type    Zip            Respons Date        Borough   Latitude  Longitude\n",
       "69917  09/02/2014 12:00:00 AM      1-2 Family Dwelling  11367  09/10/2014 12:00:00 AM         QUEENS  40.740013 -73.830240\n",
       "14682  07/26/2016 12:00:00 AM  3+ Family Apt. Building  10303  07/26/2016 08:55:33 PM  STATEN ISLAND  40.627381 -74.156613\n",
       "97078  03/04/2017 12:00:00 AM  3+ Family Apt. Building  10031  03/21/2017 12:00:00 AM      MANHATTAN  40.825288 -73.942665"
      ]
     },
     "execution_count": 10,
     "metadata": {},
     "output_type": "execute_result"
    }
   ],
   "source": [
    "df.sample(3)"
   ]
  },
  {
   "cell_type": "code",
   "execution_count": 11,
   "metadata": {},
   "outputs": [],
   "source": [
    "df['DateTime'] = pd.to_datetime(df['Date'])\n",
    "df = df.drop('Date', axis=1)\n",
    "df['Date'] = df['DateTime'].dt.strftime('%m/%d/%y')\n",
    "df['Time'] = df['DateTime'].dt.strftime('%H:%M')"
   ]
  },
  {
   "cell_type": "code",
   "execution_count": 12,
   "metadata": {},
   "outputs": [],
   "source": [
    "df = df.drop('DateTime', axis=1)"
   ]
  },
  {
   "cell_type": "code",
   "execution_count": 13,
   "metadata": {},
   "outputs": [],
   "source": [
    "df['ResponseDateTime'] = pd.to_datetime(df['Respons Date'])\n",
    "df = df.drop('Respons Date', axis=1)\n",
    "df['Response Date'] = df['ResponseDateTime'].dt.strftime('%m/%/%y')\n",
    "df['Response Time'] = df['ResponseDateTime'].dt.strftime('%H:%M')\n",
    "df = df.drop('ResponseDateTime', axis=1)"
   ]
  },
  {
   "cell_type": "markdown",
   "metadata": {},
   "source": [
    "### Visualization\n",
    "1. What type of building has the most rats?\n",
    "2. Where has the most rats?\n",
    "3. What time does rat most show?\n",
    "4. How long does it take to get it removed? (Average time)"
   ]
  },
  {
   "cell_type": "code",
   "execution_count": 14,
   "metadata": {},
   "outputs": [
    {
     "data": {
      "text/plain": [
       "3+ Family Apt. Building          41061\n",
       "1-2 Family Dwelling              19702\n",
       "Other (Explain Below)            15044\n",
       "3+ Family Mixed Use Building      7991\n",
       "Commercial Building               5007\n",
       "Vacant Lot                        3639\n",
       "Construction Site                 2293\n",
       "Vacant Building                   1879\n",
       "1-2 Family Mixed Use Building     1754\n",
       "Catch Basin/Sewer                 1079\n",
       "Parking Lot/Garage                 875\n",
       "Public Garden                      515\n",
       "Government Building                282\n",
       "School/Pre-School                  185\n",
       "Single Room Occupancy (SRO)        175\n",
       "Day Care/Nursery                   130\n",
       "Public Stairs                      120\n",
       "Office Building                     87\n",
       "Hospital                            83\n",
       "Summer Camp                          7\n",
       "Name: Type, dtype: int64"
      ]
     },
     "execution_count": 14,
     "metadata": {},
     "output_type": "execute_result"
    }
   ],
   "source": [
    "# 1. What type of building has the most rats?\n",
    "df['Type'].value_counts()"
   ]
  },
  {
   "cell_type": "code",
   "execution_count": 15,
   "metadata": {},
   "outputs": [
    {
     "data": {
      "image/png": "[encoded data removed]",
      "text/plain": [
       "<Figure size 576x360 with 1 Axes>"
      ]
     },
     "metadata": {
      "needs_background": "light"
     },
     "output_type": "display_data"
    }
   ],
   "source": [
    "plt.figure(figsize=(8, 5))\n",
    "ax = sns.countplot(data=df, y='Type', order=df['Type'].value_counts().iloc[0:10].index)\n",
    "plt.title('Where Do Rats Live?')\n",
    "\n",
    "for p in ax.patches:\n",
    "    number = p.get_width()\n",
    "    x = p.get_x() + p.get_width()\n",
    "    y = p.get_y() + p.get_height()\n",
    "    ax.annotate(number, (x, y))\n",
    "\n",
    "plt.show()"
   ]
  },
  {
   "cell_type": "markdown",
   "metadata": {},
   "source": [
    "It looks like rats actually love living in family homes, as it's a great place to be, with food and warm temp."
   ]
  },
  {
   "cell_type": "code",
   "execution_count": 16,
   "metadata": {},
   "outputs": [
    {
     "data": {
      "text/html": [
       "<div>\n",
       "<style scoped>\n",
       "    .dataframe tbody tr th:only-of-type {\n",
       "        vertical-align: middle;\n",
       "    }\n",
       "\n",
       "    .dataframe tbody tr th {\n",
       "        vertical-align: top;\n",
       "    }\n",
       "\n",
       "    .dataframe thead th {\n",
       "        text-align: right;\n",
       "    }\n",
       "</style>\n",
       "<table border=\"1\" class=\"dataframe\">\n",
       "  <thead>\n",
       "    <tr style=\"text-align: right;\">\n",
       "      <th></th>\n",
       "      <th>Type</th>\n",
       "      <th>Zip</th>\n",
       "      <th>Borough</th>\n",
       "      <th>Latitude</th>\n",
       "      <th>Longitude</th>\n",
       "      <th>Date</th>\n",
       "      <th>Time</th>\n",
       "      <th>Response Date</th>\n",
       "      <th>Response Time</th>\n",
       "    </tr>\n",
       "  </thead>\n",
       "  <tbody>\n",
       "    <tr>\n",
       "      <th>0</th>\n",
       "      <td>3+ Family Mixed Use Building</td>\n",
       "      <td>10006</td>\n",
       "      <td>MANHATTAN</td>\n",
       "      <td>40.707772</td>\n",
       "      <td>-74.012963</td>\n",
       "      <td>09/04/15</td>\n",
       "      <td>00:00</td>\n",
       "      <td>2015-09-18 00:00:00</td>\n",
       "      <td>00:00</td>\n",
       "    </tr>\n",
       "    <tr>\n",
       "      <th>1</th>\n",
       "      <td>Commercial Building</td>\n",
       "      <td>10306</td>\n",
       "      <td>STATEN ISLAND</td>\n",
       "      <td>40.575209</td>\n",
       "      <td>-74.104547</td>\n",
       "      <td>09/04/15</td>\n",
       "      <td>00:00</td>\n",
       "      <td>2015-10-28 00:00:00</td>\n",
       "      <td>00:00</td>\n",
       "    </tr>\n",
       "  </tbody>\n",
       "</table>\n",
       "</div>"
      ],
      "text/plain": [
       "                           Type    Zip        Borough   Latitude  Longitude      Date   Time        Response Date Response Time\n",
       "0  3+ Family Mixed Use Building  10006      MANHATTAN  40.707772 -74.012963  09/04/15  00:00  2015-09-18 00:00:00         00:00\n",
       "1           Commercial Building  10306  STATEN ISLAND  40.575209 -74.104547  09/04/15  00:00  2015-10-28 00:00:00         00:00"
      ]
     },
     "execution_count": 16,
     "metadata": {},
     "output_type": "execute_result"
    }
   ],
   "source": [
    "df.head(2)"
   ]
  },
  {
   "cell_type": "code",
   "execution_count": 17,
   "metadata": {},
   "outputs": [
    {
     "data": {
      "text/plain": [
       "BROOKLYN         34673\n",
       "MANHATTAN        26803\n",
       "BRONX            20706\n",
       "QUEENS           14811\n",
       "STATEN ISLAND     4920\n",
       "Unspecified          1\n",
       "Name: Borough, dtype: int64"
      ]
     },
     "execution_count": 17,
     "metadata": {},
     "output_type": "execute_result"
    }
   ],
   "source": [
    "#2. Where has the most rat?\n",
    "df['Borough'].value_counts()"
   ]
  },
  {
   "cell_type": "code",
   "execution_count": 18,
   "metadata": {},
   "outputs": [
    {
     "data": {
      "image/png": "[encoded data removed]",
      "text/plain": [
       "<Figure size 576x360 with 1 Axes>"
      ]
     },
     "metadata": {
      "needs_background": "light"
     },
     "output_type": "display_data"
    }
   ],
   "source": [
    "plt.figure(figsize=(8, 5))\n",
    "ax = sns.countplot(data=df, y='Borough', order=df['Borough'].value_counts().iloc[0:5].index)\n",
    "plt.title('Where Do Rats Live?')\n",
    "\n",
    "for p in ax.patches:\n",
    "    number = p.get_width()\n",
    "    x = p.get_x() + p.get_width()\n",
    "    y = p.get_y() + p.get_height()\n",
    "    ax.annotate(number, (x, y))\n",
    "\n",
    "plt.show()"
   ]
  },
  {
   "cell_type": "markdown",
   "metadata": {},
   "source": [
    "Unexpectedly, Brooklyn has the most rats. And also it is interesting that the Bronx has less rats than Manhattan."
   ]
  },
  {
   "cell_type": "code",
   "execution_count": 19,
   "metadata": {},
   "outputs": [
    {
     "data": {
      "text/plain": [
       "<matplotlib.collections.PathCollection at 0x26cc9b35c18>"
      ]
     },
     "execution_count": 19,
     "metadata": {},
     "output_type": "execute_result"
    },
    {
     "data": {
      "image/png": "[encoded data removed]",
      "text/plain": [
       "<Figure size 432x288 with 1 Axes>"
      ]
     },
     "metadata": {
      "needs_background": "light"
     },
     "output_type": "display_data"
    }
   ],
   "source": [
    "plt.scatter(x=df['Latitude'], y=df['Longitude'], )"
   ]
  },
  {
   "cell_type": "code",
   "execution_count": null,
   "metadata": {},
   "outputs": [],
   "source": []
  }
 ],
 "metadata": {
  "kernelspec": {
   "display_name": "Python 3",
   "language": "python",
   "name": "python3"
  },
  "language_info": {
   "codemirror_mode": {
    "name": "ipython",
    "version": 3
   },
   "file_extension": ".py",
   "mimetype": "text/x-python",
   "name": "python",
   "nbconvert_exporter": "python",
   "pygments_lexer": "ipython3",
   "version": "3.7.3"
  }
 },
 "nbformat": 4,
 "nbformat_minor": 2
}
